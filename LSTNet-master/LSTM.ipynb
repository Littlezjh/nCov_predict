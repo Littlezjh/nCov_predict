{
 "cells": [
  {
   "cell_type": "code",
   "execution_count": 1,
   "outputs": [],
   "source": [
    "import pandas as pd\n",
    "import numpy as np\n",
    "import matplotlib\n",
    "import matplotlib.pyplot as plt\n",
    "\n",
    "import torch\n",
    "import torch.nn as nn\n",
    "from models import LSTNet\n",
    "import importlib\n",
    "\n",
    "from utils import *;\n",
    "import Optim\n",
    "\n",
    "#显示中文\n",
    "plt.rcParams['font.sans-serif'] = [u'SimHei']\n",
    "plt.rcParams['axes.unicode_minus'] = False\n",
    "\n",
    "data_path='D:/Codes/nCov/LSTNet-master/data/'"
   ],
   "metadata": {
    "collapsed": false,
    "pycharm": {
     "name": "#%%\n",
     "is_executing": false
    }
   }
  },
  {
   "cell_type": "code",
   "execution_count": 2,
   "outputs": [],
   "source": [
    "inputfile=\"D:/Codes/nCov/data/out_increase_province_2.20.csv\"\n",
    "\n",
    "# 显示所有列\n",
    "pd.set_option('display.max_columns', None)\n",
    "# 显示所有行\n",
    "pd.set_option('display.max_rows', None)\n",
    "# 设置value的显示长度为100，默认为50\n",
    "pd.set_option('max_colwidth', 200)\n",
    "\n",
    "#读取数据\n",
    "dataf = pd.read_csv(inputfile, encoding='UTF-8')"
   ],
   "metadata": {
    "collapsed": false,
    "pycharm": {
     "name": "#%%\n",
     "is_executing": false
    }
   }
  },
  {
   "cell_type": "code",
   "execution_count": 16,
   "outputs": [
    {
     "name": "stdout",
     "text": [
      "    新增死亡  新增治愈   新增确诊\n",
      "0    1.0   9.0    1.0\n",
      "1    0.0  69.0    2.0\n",
      "2    0.0  28.0    1.0\n",
      "3    0.0  51.0    4.0\n",
      "4    0.0  28.0    5.0\n",
      "5    0.0  25.0    7.0\n",
      "6    0.0  43.0   10.0\n",
      "7    0.0  39.0   14.0\n",
      "8    0.0  51.0   14.0\n",
      "9    0.0  28.0   25.0\n",
      "10   0.0  41.0   17.0\n",
      "11   0.0  26.0   27.0\n",
      "12   0.0  52.0   42.0\n",
      "13   0.0  29.0   52.0\n",
      "14   0.0  16.0   59.0\n",
      "15   0.0  16.0   66.0\n",
      "16   0.0  19.0  105.0\n",
      "17  -1.0  11.0   63.0\n",
      "18   1.0  11.0   62.0\n",
      "19   0.0   7.0   61.0\n",
      "20   0.0  10.0  110.0\n",
      "21   0.0   1.0  132.0\n",
      "22   0.0   0.0  123.0\n",
      "23   0.0   2.0   45.0\n",
      "24   0.0   0.0   24.0\n",
      "25   0.0   0.0   42.0\n",
      "26   0.0   0.0   19.0\n",
      "27   0.0   1.0   43.0\n"
     ],
     "output_type": "stream"
    }
   ],
   "source": [
    "#提取对应省份的数据\n",
    "data_zhejiang=dataf.loc[dataf['省']=='浙江省'].iloc[:,1:4]\n",
    "print(data_zhejiang)\n",
    "#对数据进行处理，将数据中的负数消除\n",
    "for index,data in data_zhejiang.iterrows():\n",
    "    for name in data.iteritems():\n",
    "        if name[1]<0:\n",
    "            data_zhejiang.loc[index+1,name[0]]+=name[1]\n",
    "            data_zhejiang.loc[index,name[0]]=0\n",
    "data_zj=data_zhejiang.iloc[::-1]\n",
    "data_zj.to_csv(data_path+'data_zhejiang_2.20.txt', header=0,index=False)"
   ],
   "metadata": {
    "collapsed": false,
    "pycharm": {
     "name": "#%%\n",
     "is_executing": false
    }
   }
  },
  {
   "cell_type": "code",
   "execution_count": 18,
   "outputs": [
    {
     "name": "stdout",
     "text": [
      "     新增死亡    新增治愈     新增确诊\n",
      "28  108.0  1017.0    349.0\n",
      "29  132.0  1393.0   1693.0\n",
      "30   93.0  1250.0   1807.0\n",
      "31  100.0  1027.0   1933.0\n",
      "32  139.0   845.0   1843.0\n",
      "33   31.0   690.0   2420.0\n",
      "34  116.0   672.0   3780.0\n",
      "35  242.0   773.0  14840.0\n",
      "36   94.0   376.0   1638.0\n",
      "37  103.0   456.0   2097.0\n",
      "38   91.0   374.0   2531.0\n",
      "39   81.0   262.0   2147.0\n",
      "40   81.0   351.0   2841.0\n",
      "41   69.0   155.0   2447.0\n",
      "42   70.0   175.0   2987.0\n",
      "43   65.0   139.0   3156.0\n",
      "44   64.0    98.0   2345.0\n",
      "45   56.0    33.0   2103.0\n",
      "46   45.0    99.0   1921.0\n",
      "47   45.0    27.0   1347.0\n",
      "48   42.0    51.0    903.0\n",
      "49   37.0     3.0   1349.0\n",
      "50   25.0    35.0    840.0\n",
      "51   24.0     5.0   1291.0\n",
      "52   24.0     5.0    365.0\n",
      "53   13.0    10.0    328.0\n",
      "54   15.0     1.0    181.0\n",
      "55   24.0    31.0    549.0\n"
     ],
     "output_type": "stream"
    }
   ],
   "source": [
    "#提取对应省份的数据\n",
    "data_hb=dataf.loc[dataf['省']=='湖北省'].iloc[:,1:4]\n",
    "print(data_hb)\n",
    "# data_hb.iloc[5,2]=(data_hb.iloc[4,2]+data_hb.iloc[6,2])/2\n",
    "#对数据进行处理，将数据中的负数消除\n",
    "for index,data in data_hb.iterrows():\n",
    "    for name in data.iteritems():\n",
    "        if name[1]<0:\n",
    "            data_hb.loc[index+1,name[0]]+=name[1]\n",
    "            data_hb.loc[index,name[0]]=0\n",
    "data_hb=data_hb.iloc[::-1]\n",
    "data_hb.to_csv(data_path+'data_hubei_reduced_2.20.txt', header=0,index=False)"
   ],
   "metadata": {
    "collapsed": false,
    "pycharm": {
     "name": "#%%\n",
     "is_executing": false
    }
   }
  },
  {
   "cell_type": "code",
   "execution_count": 8,
   "outputs": [
    {
     "name": "stdout",
     "text": [
      "     新增死亡  新增治愈   新增确诊\n",
      "519   0.0   1.0   43.0\n",
      "518   0.0   0.0   19.0\n",
      "517   0.0   0.0   42.0\n",
      "516   0.0   0.0   24.0\n",
      "515   0.0   2.0   45.0\n",
      "514   0.0   0.0  123.0\n",
      "513   0.0   1.0  132.0\n",
      "512   0.0  10.0  110.0\n",
      "511   0.0   7.0   61.0\n",
      "510   0.0  11.0   62.0\n",
      "509   0.0  11.0   63.0\n",
      "508   0.0  19.0  105.0\n",
      "507   0.0  16.0   66.0\n",
      "506   0.0  16.0   59.0\n",
      "505   0.0  29.0   52.0\n",
      "504   0.0  52.0   42.0\n",
      "503   0.0  26.0   27.0\n",
      "502   0.0  41.0   17.0\n",
      "501   0.0  28.0   25.0\n",
      "500   0.0  51.0   14.0\n",
      "499   0.0  39.0   14.0\n",
      "498   0.0  43.0   10.0\n",
      "497   0.0  25.0    7.0\n",
      "496   0.0  28.0    5.0\n",
      "495   0.0  51.0    4.0\n",
      "494   0.0   7.0    1.0\n"
     ],
     "output_type": "stream"
    },
    {
     "data": {
      "text/plain": "<Figure size 432x288 with 1 Axes>",
      "image/png": "[encoded data removed]"
     },
     "metadata": {
      "needs_background": "light"
     },
     "output_type": "display_data"
    }
   ],
   "source": [
    "print(data_zj)\n",
    "data_zj.plot(title='浙江省新增情况图',use_index=False)\n",
    "plt.savefig('figure/zhejiang.png',dpi=500)\n",
    "plt.show()"
   ],
   "metadata": {
    "collapsed": false,
    "pycharm": {
     "name": "#%%\n",
     "is_executing": false
    }
   }
  },
  {
   "cell_type": "code",
   "execution_count": 9,
   "outputs": [
    {
     "data": {
      "text/plain": "<Figure size 432x288 with 1 Axes>",
      "image/png": "[encoded data removed]"
     },
     "metadata": {
      "needs_background": "light"
     },
     "output_type": "display_data"
    }
   ],
   "source": [
    "data_hb.plot(title='湖北省新增情况图',use_index=False)\n",
    "plt.savefig('figure/hubei.png',dpi=500)\n",
    "plt.show()"
   ],
   "metadata": {
    "collapsed": false,
    "pycharm": {
     "name": "#%%\n",
     "is_executing": false
    }
   }
  },
  {
   "cell_type": "code",
   "execution_count": 3,
   "outputs": [
    {
     "name": "stdout",
     "text": [
      "      0     1      2\n",
      "25  0.0  28.0    1.0\n",
      "24  0.0  51.0    4.0\n",
      "23  0.0  28.0    5.0\n",
      "22  0.0  25.0    7.0\n",
      "21  0.0  43.0   10.0\n",
      "20  0.0  39.0   14.0\n",
      "19  0.0  51.0   14.0\n",
      "18  0.0  28.0   25.0\n",
      "17  0.0  41.0   17.0\n",
      "16  0.0  26.0   27.0\n",
      "15  0.0  52.0   42.0\n",
      "14  0.0  29.0   52.0\n",
      "13  0.0  16.0   59.0\n",
      "12  0.0  16.0   66.0\n",
      "11  0.0  19.0  105.0\n",
      "10  0.0  11.0   63.0\n",
      "9   0.0  11.0   62.0\n",
      "8   0.0   7.0   61.0\n",
      "7   0.0  10.0  110.0\n",
      "6   0.0   1.0  132.0\n",
      "5   0.0   0.0  123.0\n",
      "4   0.0   2.0   45.0\n",
      "3   0.0   0.0   24.0\n",
      "2   0.0   0.0   42.0\n",
      "1   0.0   0.0   19.0\n",
      "0   0.0   1.0   43.0\n"
     ],
     "output_type": "stream"
    }
   ],
   "source": [
    "#读取模型\n",
    "with open('save/zhejiang_200.pt', 'rb') as f:\n",
    "    model = torch.load(f)\n",
    "data_zj=pd.read_table('data/data_zhejiang.txt',header=None,sep=',')\n",
    "data_zj=data_zj[::-1]\n",
    "print(data_zj)"
   ],
   "metadata": {
    "collapsed": false,
    "pycharm": {
     "name": "#%%\n",
     "is_executing": false
    }
   }
  },
  {
   "cell_type": "code",
   "execution_count": 3,
   "outputs": [
    {
     "name": "stdout",
     "text": [
      "      0     1      2\n",
      "25  0.0   7.0    1.0\n",
      "24  0.0  51.0    4.0\n",
      "23  0.0  28.0    5.0\n",
      "22  0.0  25.0    7.0\n",
      "21  0.0  43.0   10.0\n",
      "20  0.0  39.0   14.0\n",
      "19  0.0  51.0   14.0\n",
      "18  0.0  28.0   25.0\n",
      "17  0.0  41.0   17.0\n",
      "16  0.0  26.0   27.0\n",
      "15  0.0  52.0   42.0\n",
      "14  0.0  29.0   52.0\n",
      "13  0.0  16.0   59.0\n",
      "12  0.0  16.0   66.0\n",
      "11  0.0  19.0  105.0\n",
      "10  0.0  11.0   63.0\n",
      "9   0.0  11.0   62.0\n",
      "8   0.0   7.0   61.0\n",
      "7   0.0  10.0  110.0\n",
      "6   0.0   1.0  132.0\n",
      "5   0.0   0.0  123.0\n",
      "4   0.0   2.0   45.0\n",
      "3   0.0   0.0   24.0\n",
      "2   0.0   0.0   42.0\n",
      "1   0.0   0.0   19.0\n",
      "0   0.0   1.0   43.0\n"
     ],
     "output_type": "stream"
    }
   ],
   "source": [],
   "metadata": {
    "collapsed": false,
    "pycharm": {
     "name": "#%%\n",
     "is_executing": false
    }
   }
  },
  {
   "cell_type": "code",
   "execution_count": 4,
   "outputs": [
    {
     "name": "stdout",
     "text": [
      "[[[ 0. 28. 25.]\n",
      "  [ 0. 51. 14.]\n",
      "  [ 0. 39. 14.]\n",
      "  [ 0. 43. 10.]\n",
      "  [ 0. 25.  7.]]]\n"
     ],
     "output_type": "stream"
    }
   ],
   "source": [
    "i=0\n",
    "dt=data_zj.iloc[3-i:8-i,:]\n",
    "dt=dt[::-1]\n",
    "#预测的前5个值\n",
    "first_5=dt\n",
    "dt=dt.values\n",
    "dt=np.expand_dims(dt,axis=0)\n",
    "print(dt)\n",
    "x=Variable(torch.FloatTensor(dt))\n",
    "y=model(x).data.numpy()\n",
    "Y=np.expand_dims(y,axis=0)\n",
    "#预测的后5个值\n",
    "later_5=pd.DataFrame(y)"
   ],
   "metadata": {
    "collapsed": false,
    "pycharm": {
     "name": "#%%\n",
     "is_executing": false
    }
   }
  },
  {
   "cell_type": "code",
   "execution_count": 5,
   "outputs": [],
   "source": [
    "new_dt=dt[:,1:,:]\n",
    "dt_1=np.concatenate((new_dt,Y),axis=1)\n",
    "for i in range(4):\n",
    "    x=Variable(torch.FloatTensor(dt_1))\n",
    "    y=model(x).data.numpy()\n",
    "    Y=np.expand_dims(y,axis=0)\n",
    "    later_5=later_5.append(pd.DataFrame(y))\n",
    "    dt_1=dt_1[:,1:,:]\n",
    "    dt_1=np.concatenate((dt_1,Y),axis=1)"
   ],
   "metadata": {
    "collapsed": false,
    "pycharm": {
     "name": "#%%\n",
     "is_executing": false
    }
   }
  },
  {
   "cell_type": "code",
   "execution_count": 6,
   "outputs": [
    {
     "name": "stdout",
     "text": [
      "          0          1          2\n",
      "0  0.000000  28.000000  25.000000\n",
      "1  0.000000  51.000000  14.000000\n",
      "2  0.000000  39.000000  14.000000\n",
      "3  0.000000  43.000000  10.000000\n",
      "4  0.000000  25.000000   7.000000\n",
      "5 -0.160560  20.436472  16.973679\n",
      "6 -0.115334  14.915851  20.334579\n",
      "7 -0.123910  14.633779  24.626015\n",
      "8 -0.008986  13.809252  26.186333\n",
      "9  0.055549  14.223135  27.546803\n"
     ],
     "output_type": "stream"
    }
   ],
   "source": [
    "predict_10=first_5.append(later_5).reset_index(drop=True)\n",
    "print(predict_10)"
   ],
   "metadata": {
    "collapsed": false,
    "pycharm": {
     "name": "#%%\n",
     "is_executing": false
    }
   }
  },
  {
   "cell_type": "code",
   "execution_count": 7,
   "outputs": [],
   "source": [
    "#读取真实值\n",
    "data_true=pd.read_table('data/data_zhejiang_2.20.txt',header=None,sep=',')\n",
    "data_true=data_true.iloc[-10:,:].reset_index(drop=True)"
   ],
   "metadata": {
    "collapsed": false,
    "pycharm": {
     "name": "#%%\n",
     "is_executing": false
    }
   }
  },
  {
   "cell_type": "code",
   "execution_count": 8,
   "outputs": [
    {
     "data": {
      "text/plain": "<Figure size 432x288 with 1 Axes>",
      "image/png": "[encoded data removed]"
     },
     "metadata": {
      "needs_background": "light"
     },
     "output_type": "display_data"
    }
   ],
   "source": [
    "#显示新增治愈图像\n",
    "plt.plot(data_true.iloc[:,1],label='实际值')\n",
    "plt.plot(predict_10.iloc[:,1],label='预测值')\n",
    "plt.legend()\n",
    "plt.title('浙江省新增治愈对比图')\n",
    "plt.savefig('figure/浙江省新增治愈对比图_300.png',dpi=500)"
   ],
   "metadata": {
    "collapsed": false,
    "pycharm": {
     "name": "#%%\n",
     "is_executing": false
    }
   }
  },
  {
   "cell_type": "code",
   "execution_count": 9,
   "outputs": [
    {
     "data": {
      "text/plain": "<Figure size 432x288 with 1 Axes>",
      "image/png": "[encoded data removed]"
     },
     "metadata": {
      "needs_background": "light"
     },
     "output_type": "display_data"
    }
   ],
   "source": [
    "plt.plot(data_true.iloc[:,2],label='实际值')\n",
    "plt.plot(predict_10.iloc[:,2],label='预测值')\n",
    "plt.legend()\n",
    "plt.title('浙江省新增确诊对比图')\n",
    "plt.savefig('figure/浙江省新增确诊对比图_300.png',dpi=500)"
   ],
   "metadata": {
    "collapsed": false,
    "pycharm": {
     "name": "#%%\n",
     "is_executing": false
    }
   }
  },
  {
   "cell_type": "code",
   "execution_count": null,
   "outputs": [],
   "source": [
    "\n"
   ],
   "metadata": {
    "collapsed": false,
    "pycharm": {
     "name": "#%%\n"
    }
   }
  }
 ],
 "metadata": {
  "kernelspec": {
   "name": "pycharm-d9d7c811",
   "language": "python",
   "display_name": "PyCharm (nCov)"
  },
  "language_info": {
   "codemirror_mode": {
    "name": "ipython",
    "version": 2
   },
   "file_extension": ".py",
   "mimetype": "text/x-python",
   "name": "python",
   "nbconvert_exporter": "python",
   "pygments_lexer": "ipython2",
   "version": "2.7.6"
  },
  "pycharm": {
   "stem_cell": {
    "cell_type": "raw",
    "source": [],
    "metadata": {
     "collapsed": false
    }
   }
  }
 },
 "nbformat": 4,
 "nbformat_minor": 0
}